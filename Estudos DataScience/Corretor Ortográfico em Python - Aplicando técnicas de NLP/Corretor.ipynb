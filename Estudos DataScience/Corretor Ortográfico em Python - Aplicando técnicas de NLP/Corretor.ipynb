{
  "nbformat": 4,
  "nbformat_minor": 0,
  "metadata": {
    "colab": {
      "provenance": []
    },
    "kernelspec": {
      "name": "python3",
      "display_name": "Python 3"
    },
    "language_info": {
      "name": "python"
    }
  },
  "cells": [
    {
      "cell_type": "code",
      "execution_count": 54,
      "metadata": {
        "colab": {
          "base_uri": "https://localhost:8080/"
        },
        "id": "L7sJ-nCr3xZQ",
        "outputId": "d1dbebef-1a49-4237-97c6-9559bf15de83"
      },
      "outputs": [
        {
          "output_type": "stream",
          "name": "stdout",
          "text": [
            "\n",
            "\n",
            "\n",
            "imagem \n",
            "\n",
            "Temos a seguinte classe que representa um usuário no nosso sistema:\n",
            "\n",
            "java\n",
            "\n",
            "Para salvar um novo usuário, várias validações são feitas, como por exemplo: Ver se o nome só contém letras, [**o CPF só números**] e ver se o usuário possui no mínimo 18 anos. Veja o método que faz essa validação:\n",
            "\n",
            "java \n",
            "\n",
            "Suponha agora que eu tenha outra classe, a classe `Produto`, que contém um atributo nome e eu quero fazer a mesma validação que fiz para o nome do usuário: Ver se só contém letras. E aí? Vou\n"
          ]
        }
      ],
      "source": [
        "# Lendo o corpus, armazenando em uma variável e apresentando os 500 primeiros caracteres.\n",
        "with open(\"artigos.txt\", \"r\") as f:\n",
        "  artigos = f.read()\n",
        "\n",
        "print(artigos[:500])"
      ]
    },
    {
      "cell_type": "code",
      "source": [
        "# Verificando a quantidade de caracteres na variável artigos\n",
        "len(artigos)"
      ],
      "metadata": {
        "colab": {
          "base_uri": "https://localhost:8080/"
        },
        "id": "B213Y6oGDGh1",
        "outputId": "ee4eb974-6bb3-4d58-9c8f-822141339af8"
      },
      "execution_count": 55,
      "outputs": [
        {
          "output_type": "execute_result",
          "data": {
            "text/plain": [
              "2605046"
            ]
          },
          "metadata": {},
          "execution_count": 55
        }
      ]
    },
    {
      "cell_type": "code",
      "source": [
        "# Verificando a quantidade de caracteres na palavra Olá\n",
        "len('Olá')"
      ],
      "metadata": {
        "colab": {
          "base_uri": "https://localhost:8080/"
        },
        "id": "9KUOLXl9O8Zq",
        "outputId": "8530fdc2-d63e-4317-eaa9-8602f6235ac7"
      },
      "execution_count": 56,
      "outputs": [
        {
          "output_type": "execute_result",
          "data": {
            "text/plain": [
              "3"
            ]
          },
          "metadata": {},
          "execution_count": 56
        }
      ]
    },
    {
      "cell_type": "code",
      "source": [
        "# Tokenizando uma string\n",
        "texto_exemplo = 'Olá, tudo bem?'\n",
        "tokens = texto_exemplo.split()"
      ],
      "metadata": {
        "id": "rOGXdOqsPF1Z"
      },
      "execution_count": 57,
      "outputs": []
    },
    {
      "cell_type": "code",
      "source": [
        "# Verificando a quantidade de tokens\n",
        "len(tokens)"
      ],
      "metadata": {
        "colab": {
          "base_uri": "https://localhost:8080/"
        },
        "id": "pJR4bSrIPVJ7",
        "outputId": "98fc9a7b-6b00-4dd4-8e45-514df16f3036"
      },
      "execution_count": 58,
      "outputs": [
        {
          "output_type": "execute_result",
          "data": {
            "text/plain": [
              "3"
            ]
          },
          "metadata": {},
          "execution_count": 58
        }
      ]
    },
    {
      "cell_type": "code",
      "source": [
        "# Printando a variável token.\n",
        "# No entanto para o processo de NLP precisamos apenas de palavras, não precisamos de pontuações nos tokens\n",
        "tokens"
      ],
      "metadata": {
        "colab": {
          "base_uri": "https://localhost:8080/"
        },
        "id": "79Vtuh9kPXC1",
        "outputId": "2d1577c5-8ad6-47fd-9ede-6617bad8a36c"
      },
      "execution_count": 59,
      "outputs": [
        {
          "output_type": "execute_result",
          "data": {
            "text/plain": [
              "['Olá,', 'tudo', 'bem?']"
            ]
          },
          "metadata": {},
          "execution_count": 59
        }
      ]
    },
    {
      "cell_type": "code",
      "source": [
        "# Importanto a biblioteca nltk, e utilizando o metodo nltk.tokenize.word_tokenize(corpus), para fazer a separação de palavras e pontuações.\n",
        "import nltk\n",
        "nltk.download('punkt')\n",
        "palavras_separadas = nltk.tokenize.word_tokenize(texto_exemplo)"
      ],
      "metadata": {
        "id": "OivtpGZ6QHXv",
        "colab": {
          "base_uri": "https://localhost:8080/"
        },
        "outputId": "31dbbfe4-9d6c-4492-cd77-c1645c08f7ef"
      },
      "execution_count": 60,
      "outputs": [
        {
          "output_type": "stream",
          "name": "stderr",
          "text": [
            "[nltk_data] Downloading package punkt to /root/nltk_data...\n",
            "[nltk_data]   Package punkt is already up-to-date!\n"
          ]
        }
      ]
    },
    {
      "cell_type": "code",
      "source": [
        "# Printanto \n",
        "print(palavras_separadas)"
      ],
      "metadata": {
        "colab": {
          "base_uri": "https://localhost:8080/"
        },
        "id": "M8C25bPL6Swo",
        "outputId": "032f27ab-ccfd-4bbb-fea4-074fa218613c"
      },
      "execution_count": 61,
      "outputs": [
        {
          "output_type": "stream",
          "name": "stdout",
          "text": [
            "['Olá', ',', 'tudo', 'bem', '?']\n"
          ]
        }
      ]
    },
    {
      "cell_type": "code",
      "source": [
        "# Verificando o tamanho\n",
        "# 5, 3 palavras e 2 pontuações\n",
        "len(palavras_separadas)"
      ],
      "metadata": {
        "colab": {
          "base_uri": "https://localhost:8080/"
        },
        "id": "SnAKPM7a6jJx",
        "outputId": "e894203f-1c0b-4b75-dc47-97851550a607"
      },
      "execution_count": 62,
      "outputs": [
        {
          "output_type": "execute_result",
          "data": {
            "text/plain": [
              "5"
            ]
          },
          "metadata": {},
          "execution_count": 62
        }
      ]
    },
    {
      "cell_type": "code",
      "source": [
        "# Criando um função separa_pavras, para eliminar as pontuações da lista de tokens, fazendo uma verificação com o metodo isalpha()\n",
        "# Se o token for alfabetico, é adicionando em uma nova lista.\n",
        "\n",
        "def separa_palavras(lista_tokens):\n",
        "  lista_palavras = []\n",
        "  for token in lista_tokens:\n",
        "    if token.isalpha():\n",
        "      lista_palavras.append(token)\n",
        "\n",
        "  return lista_palavras"
      ],
      "metadata": {
        "id": "N54nsDZ2Nj5p"
      },
      "execution_count": 63,
      "outputs": []
    },
    {
      "cell_type": "code",
      "source": [
        "# Testando a função e verificando seu retorno\n",
        "separa_palavras(palavras_separadas)"
      ],
      "metadata": {
        "colab": {
          "base_uri": "https://localhost:8080/"
        },
        "id": "WptncHxsNryq",
        "outputId": "74ec473c-8588-4e28-d116-2e9e7459f055"
      },
      "execution_count": 64,
      "outputs": [
        {
          "output_type": "execute_result",
          "data": {
            "text/plain": [
              "['Olá', 'tudo', 'bem']"
            ]
          },
          "metadata": {},
          "execution_count": 64
        }
      ]
    },
    {
      "cell_type": "code",
      "source": [
        "# Tokenizando a variável artigos e atribuindo a um nova lista de tokens\n",
        "lista_tokens = nltk.tokenize.word_tokenize(artigos)\n",
        "lista_palavras = separa_palavras(lista_tokens)\n",
        "print(f'O número de palavras no artigo é {len(lista_palavras)}')"
      ],
      "metadata": {
        "colab": {
          "base_uri": "https://localhost:8080/"
        },
        "id": "ySi9QO-COSel",
        "outputId": "124a2a0a-00fc-4cdd-ee21-2fea51379683"
      },
      "execution_count": 65,
      "outputs": [
        {
          "output_type": "stream",
          "name": "stdout",
          "text": [
            "O número de palavras no artigo é 403031\n"
          ]
        }
      ]
    },
    {
      "cell_type": "code",
      "source": [
        "lista_palavras[:5]"
      ],
      "metadata": {
        "colab": {
          "base_uri": "https://localhost:8080/"
        },
        "id": "ryhJfY0TTfT4",
        "outputId": "f439ca0a-28e4-4a91-ec40-2241376d1c0b"
      },
      "execution_count": 66,
      "outputs": [
        {
          "output_type": "execute_result",
          "data": {
            "text/plain": [
              "['imagem', 'Temos', 'a', 'seguinte', 'classe']"
            ]
          },
          "metadata": {},
          "execution_count": 66
        }
      ]
    },
    {
      "cell_type": "code",
      "source": [
        "# Criando uma função de normalização para deixar todas as palavras com letras minúsculas.\n",
        "def normalizacao(lista_palavras):\n",
        "  normalizacao = []\n",
        "  for palavra in lista_palavras:\n",
        "    normalizacao.append(palavra.lower())\n",
        "\n",
        "  return normalizacao"
      ],
      "metadata": {
        "id": "0x7gY6xSYAcD"
      },
      "execution_count": 67,
      "outputs": []
    },
    {
      "cell_type": "code",
      "source": [
        "# Criando uma lista de tokens com palavras normalizadas e verificando\n",
        "palavras_normalizadas = normalizacao(lista_palavras)\n",
        "palavras_normalizadas[:5]"
      ],
      "metadata": {
        "colab": {
          "base_uri": "https://localhost:8080/"
        },
        "id": "MzoI0H5ZYT4j",
        "outputId": "fccfe313-737f-4629-903c-e0d083d23914"
      },
      "execution_count": 68,
      "outputs": [
        {
          "output_type": "execute_result",
          "data": {
            "text/plain": [
              "['imagem', 'temos', 'a', 'seguinte', 'classe']"
            ]
          },
          "metadata": {},
          "execution_count": 68
        }
      ]
    },
    {
      "cell_type": "code",
      "source": [
        "# Verificando quantos tokens únicos possui a lista de tokens normalizados\n",
        "print(f'O artigo possui {len(set(palavras_normalizadas))} tipos de palavras.')"
      ],
      "metadata": {
        "colab": {
          "base_uri": "https://localhost:8080/"
        },
        "id": "k-Sfg02mY776",
        "outputId": "9b8d1222-c1ba-483f-f09c-ef7f6d1b81ad"
      },
      "execution_count": 69,
      "outputs": [
        {
          "output_type": "stream",
          "name": "stdout",
          "text": [
            "O artigo possui 18464 tipos de palavras.\n"
          ]
        }
      ]
    },
    {
      "cell_type": "code",
      "source": [
        "palavra_exemplo = 'lgica'\n",
        "\n",
        "def insere_letras(fatias):\n",
        "  letras = 'abcdefghijklmnopqrstuvwxyzàáâãèéêìíîòóôõùúûç'\n",
        "  novas_palavras = []\n",
        "\n",
        "  for E, D in fatias:\n",
        "    for letra in letras:\n",
        "      novas_palavras.append(E + letra + D)\n",
        "\n",
        "  return novas_palavras\n",
        "\n",
        "\n",
        "def gerador_palavras(palavra):\n",
        "  fatias = []\n",
        "\n",
        "  for i in range(len(palavra) + 1):\n",
        "    fatias.append((palavra[:i], palavra[i:]))\n",
        "\n",
        "  palavras_geradas = insere_letras(fatias)\n",
        "\n",
        "  return palavras_geradas "
      ],
      "metadata": {
        "id": "wPCPqYdsyJVf"
      },
      "execution_count": 70,
      "outputs": []
    },
    {
      "cell_type": "code",
      "source": [
        "palavras_geradas = gerador_palavras(palavra_exemplo)\n",
        "palavras_geradas"
      ],
      "metadata": {
        "colab": {
          "base_uri": "https://localhost:8080/"
        },
        "id": "yXudb7DszLgX",
        "outputId": "820ebd23-b499-45a6-ec7b-b8f32b06ffe2"
      },
      "execution_count": 71,
      "outputs": [
        {
          "output_type": "execute_result",
          "data": {
            "text/plain": [
              "['algica',\n",
              " 'blgica',\n",
              " 'clgica',\n",
              " 'dlgica',\n",
              " 'elgica',\n",
              " 'flgica',\n",
              " 'glgica',\n",
              " 'hlgica',\n",
              " 'ilgica',\n",
              " 'jlgica',\n",
              " 'klgica',\n",
              " 'llgica',\n",
              " 'mlgica',\n",
              " 'nlgica',\n",
              " 'olgica',\n",
              " 'plgica',\n",
              " 'qlgica',\n",
              " 'rlgica',\n",
              " 'slgica',\n",
              " 'tlgica',\n",
              " 'ulgica',\n",
              " 'vlgica',\n",
              " 'wlgica',\n",
              " 'xlgica',\n",
              " 'ylgica',\n",
              " 'zlgica',\n",
              " 'àlgica',\n",
              " 'álgica',\n",
              " 'âlgica',\n",
              " 'ãlgica',\n",
              " 'èlgica',\n",
              " 'élgica',\n",
              " 'êlgica',\n",
              " 'ìlgica',\n",
              " 'ílgica',\n",
              " 'îlgica',\n",
              " 'òlgica',\n",
              " 'ólgica',\n",
              " 'ôlgica',\n",
              " 'õlgica',\n",
              " 'ùlgica',\n",
              " 'úlgica',\n",
              " 'ûlgica',\n",
              " 'çlgica',\n",
              " 'lagica',\n",
              " 'lbgica',\n",
              " 'lcgica',\n",
              " 'ldgica',\n",
              " 'legica',\n",
              " 'lfgica',\n",
              " 'lggica',\n",
              " 'lhgica',\n",
              " 'ligica',\n",
              " 'ljgica',\n",
              " 'lkgica',\n",
              " 'llgica',\n",
              " 'lmgica',\n",
              " 'lngica',\n",
              " 'logica',\n",
              " 'lpgica',\n",
              " 'lqgica',\n",
              " 'lrgica',\n",
              " 'lsgica',\n",
              " 'ltgica',\n",
              " 'lugica',\n",
              " 'lvgica',\n",
              " 'lwgica',\n",
              " 'lxgica',\n",
              " 'lygica',\n",
              " 'lzgica',\n",
              " 'làgica',\n",
              " 'lágica',\n",
              " 'lâgica',\n",
              " 'lãgica',\n",
              " 'lègica',\n",
              " 'légica',\n",
              " 'lêgica',\n",
              " 'lìgica',\n",
              " 'lígica',\n",
              " 'lîgica',\n",
              " 'lògica',\n",
              " 'lógica',\n",
              " 'lôgica',\n",
              " 'lõgica',\n",
              " 'lùgica',\n",
              " 'lúgica',\n",
              " 'lûgica',\n",
              " 'lçgica',\n",
              " 'lgaica',\n",
              " 'lgbica',\n",
              " 'lgcica',\n",
              " 'lgdica',\n",
              " 'lgeica',\n",
              " 'lgfica',\n",
              " 'lggica',\n",
              " 'lghica',\n",
              " 'lgiica',\n",
              " 'lgjica',\n",
              " 'lgkica',\n",
              " 'lglica',\n",
              " 'lgmica',\n",
              " 'lgnica',\n",
              " 'lgoica',\n",
              " 'lgpica',\n",
              " 'lgqica',\n",
              " 'lgrica',\n",
              " 'lgsica',\n",
              " 'lgtica',\n",
              " 'lguica',\n",
              " 'lgvica',\n",
              " 'lgwica',\n",
              " 'lgxica',\n",
              " 'lgyica',\n",
              " 'lgzica',\n",
              " 'lgàica',\n",
              " 'lgáica',\n",
              " 'lgâica',\n",
              " 'lgãica',\n",
              " 'lgèica',\n",
              " 'lgéica',\n",
              " 'lgêica',\n",
              " 'lgìica',\n",
              " 'lgíica',\n",
              " 'lgîica',\n",
              " 'lgòica',\n",
              " 'lgóica',\n",
              " 'lgôica',\n",
              " 'lgõica',\n",
              " 'lgùica',\n",
              " 'lgúica',\n",
              " 'lgûica',\n",
              " 'lgçica',\n",
              " 'lgiaca',\n",
              " 'lgibca',\n",
              " 'lgicca',\n",
              " 'lgidca',\n",
              " 'lgieca',\n",
              " 'lgifca',\n",
              " 'lgigca',\n",
              " 'lgihca',\n",
              " 'lgiica',\n",
              " 'lgijca',\n",
              " 'lgikca',\n",
              " 'lgilca',\n",
              " 'lgimca',\n",
              " 'lginca',\n",
              " 'lgioca',\n",
              " 'lgipca',\n",
              " 'lgiqca',\n",
              " 'lgirca',\n",
              " 'lgisca',\n",
              " 'lgitca',\n",
              " 'lgiuca',\n",
              " 'lgivca',\n",
              " 'lgiwca',\n",
              " 'lgixca',\n",
              " 'lgiyca',\n",
              " 'lgizca',\n",
              " 'lgiàca',\n",
              " 'lgiáca',\n",
              " 'lgiâca',\n",
              " 'lgiãca',\n",
              " 'lgièca',\n",
              " 'lgiéca',\n",
              " 'lgiêca',\n",
              " 'lgiìca',\n",
              " 'lgiíca',\n",
              " 'lgiîca',\n",
              " 'lgiòca',\n",
              " 'lgióca',\n",
              " 'lgiôca',\n",
              " 'lgiõca',\n",
              " 'lgiùca',\n",
              " 'lgiúca',\n",
              " 'lgiûca',\n",
              " 'lgiçca',\n",
              " 'lgicaa',\n",
              " 'lgicba',\n",
              " 'lgicca',\n",
              " 'lgicda',\n",
              " 'lgicea',\n",
              " 'lgicfa',\n",
              " 'lgicga',\n",
              " 'lgicha',\n",
              " 'lgicia',\n",
              " 'lgicja',\n",
              " 'lgicka',\n",
              " 'lgicla',\n",
              " 'lgicma',\n",
              " 'lgicna',\n",
              " 'lgicoa',\n",
              " 'lgicpa',\n",
              " 'lgicqa',\n",
              " 'lgicra',\n",
              " 'lgicsa',\n",
              " 'lgicta',\n",
              " 'lgicua',\n",
              " 'lgicva',\n",
              " 'lgicwa',\n",
              " 'lgicxa',\n",
              " 'lgicya',\n",
              " 'lgicza',\n",
              " 'lgicàa',\n",
              " 'lgicáa',\n",
              " 'lgicâa',\n",
              " 'lgicãa',\n",
              " 'lgicèa',\n",
              " 'lgicéa',\n",
              " 'lgicêa',\n",
              " 'lgicìa',\n",
              " 'lgicía',\n",
              " 'lgicîa',\n",
              " 'lgicòa',\n",
              " 'lgicóa',\n",
              " 'lgicôa',\n",
              " 'lgicõa',\n",
              " 'lgicùa',\n",
              " 'lgicúa',\n",
              " 'lgicûa',\n",
              " 'lgicça',\n",
              " 'lgicaa',\n",
              " 'lgicab',\n",
              " 'lgicac',\n",
              " 'lgicad',\n",
              " 'lgicae',\n",
              " 'lgicaf',\n",
              " 'lgicag',\n",
              " 'lgicah',\n",
              " 'lgicai',\n",
              " 'lgicaj',\n",
              " 'lgicak',\n",
              " 'lgical',\n",
              " 'lgicam',\n",
              " 'lgican',\n",
              " 'lgicao',\n",
              " 'lgicap',\n",
              " 'lgicaq',\n",
              " 'lgicar',\n",
              " 'lgicas',\n",
              " 'lgicat',\n",
              " 'lgicau',\n",
              " 'lgicav',\n",
              " 'lgicaw',\n",
              " 'lgicax',\n",
              " 'lgicay',\n",
              " 'lgicaz',\n",
              " 'lgicaà',\n",
              " 'lgicaá',\n",
              " 'lgicaâ',\n",
              " 'lgicaã',\n",
              " 'lgicaè',\n",
              " 'lgicaé',\n",
              " 'lgicaê',\n",
              " 'lgicaì',\n",
              " 'lgicaí',\n",
              " 'lgicaî',\n",
              " 'lgicaò',\n",
              " 'lgicaó',\n",
              " 'lgicaô',\n",
              " 'lgicaõ',\n",
              " 'lgicaù',\n",
              " 'lgicaú',\n",
              " 'lgicaû',\n",
              " 'lgicaç']"
            ]
          },
          "metadata": {},
          "execution_count": 71
        }
      ]
    },
    {
      "cell_type": "code",
      "source": [
        "def corretor(palavra):\n",
        "  palavras_geradas = gerador_palavras(palavra)\n",
        "  palavra_correta = max(palavras_geradas, key = probabilidade)\n",
        "  return palavra_correta\n"
      ],
      "metadata": {
        "id": "milQFZEuscV5"
      },
      "execution_count": 72,
      "outputs": []
    },
    {
      "cell_type": "code",
      "source": [
        "frequencia = nltk.FreqDist(palavras_normalizadas)\n",
        "frequencia.most_common(10) # most_common cria uma lista com as palavras de maior frequência"
      ],
      "metadata": {
        "colab": {
          "base_uri": "https://localhost:8080/"
        },
        "id": "xXSnue6kwI0P",
        "outputId": "7a5738fa-5ac8-4050-9921-1c5ad66daf95"
      },
      "execution_count": 73,
      "outputs": [
        {
          "output_type": "execute_result",
          "data": {
            "text/plain": [
              "[('de', 15502),\n",
              " ('o', 14056),\n",
              " ('que', 12230),\n",
              " ('a', 11099),\n",
              " ('e', 10501),\n",
              " ('para', 7710),\n",
              " ('um', 6367),\n",
              " ('é', 5899),\n",
              " ('uma', 5220),\n",
              " ('do', 5124)]"
            ]
          },
          "metadata": {},
          "execution_count": 73
        }
      ]
    },
    {
      "cell_type": "code",
      "source": [
        "frequencia['lógica']"
      ],
      "metadata": {
        "colab": {
          "base_uri": "https://localhost:8080/"
        },
        "id": "JiapiOSxwZF2",
        "outputId": "5cbbee7b-969a-443a-8923-5c03c9ba060f"
      },
      "execution_count": 74,
      "outputs": [
        {
          "output_type": "execute_result",
          "data": {
            "text/plain": [
              "96"
            ]
          },
          "metadata": {},
          "execution_count": 74
        }
      ]
    },
    {
      "cell_type": "code",
      "source": [
        "total_de_palavras = len(palavras_normalizadas)"
      ],
      "metadata": {
        "id": "Zo14FMpJwuqf"
      },
      "execution_count": 75,
      "outputs": []
    },
    {
      "cell_type": "code",
      "source": [
        "def probabilidade(palavra_gerada):\n",
        "  return frequencia[palavra_gerada] / total_de_palavras"
      ],
      "metadata": {
        "id": "0WqjpJPCwbwP"
      },
      "execution_count": 76,
      "outputs": []
    },
    {
      "cell_type": "code",
      "source": [
        "probabilidade('logica')"
      ],
      "metadata": {
        "colab": {
          "base_uri": "https://localhost:8080/"
        },
        "id": "bq7p9BPrxtbW",
        "outputId": "4b705235-1870-4687-ee6b-31f7cf0a8b2b"
      },
      "execution_count": 77,
      "outputs": [
        {
          "output_type": "execute_result",
          "data": {
            "text/plain": [
              "0.0"
            ]
          },
          "metadata": {},
          "execution_count": 77
        }
      ]
    },
    {
      "cell_type": "code",
      "source": [
        "corretor(palavra_exemplo)"
      ],
      "metadata": {
        "colab": {
          "base_uri": "https://localhost:8080/",
          "height": 36
        },
        "id": "afYByFhcxwnF",
        "outputId": "427eb57c-9f59-4dbf-81a8-e030b3d20c50"
      },
      "execution_count": 78,
      "outputs": [
        {
          "output_type": "execute_result",
          "data": {
            "text/plain": [
              "'lógica'"
            ],
            "application/vnd.google.colaboratory.intrinsic+json": {
              "type": "string"
            }
          },
          "metadata": {},
          "execution_count": 78
        }
      ]
    },
    {
      "cell_type": "code",
      "source": [
        "def cria_dados_teste(nome_arquivo):\n",
        "  lista_palavras_teste = []\n",
        "  f = open(nome_arquivo, \"r\")\n",
        "\n",
        "  for linha in f:\n",
        "    correta, incorreta = linha.split()\n",
        "    lista_palavras_teste.append((correta, incorreta))\n",
        "\n",
        "  f.close()\n",
        "\n",
        "  return lista_palavras_teste\n",
        "\n"
      ],
      "metadata": {
        "id": "lG9nfsF1-SyH"
      },
      "execution_count": 79,
      "outputs": []
    },
    {
      "cell_type": "code",
      "source": [
        "lista_teste = cria_dados_teste('palavras.txt')\n",
        "lista_teste"
      ],
      "metadata": {
        "id": "PCleGr7IAr4V",
        "outputId": "be79e6af-a458-4e3f-e8aa-d99b076edf5a",
        "colab": {
          "base_uri": "https://localhost:8080/"
        }
      },
      "execution_count": 80,
      "outputs": [
        {
          "output_type": "execute_result",
          "data": {
            "text/plain": [
              "[('podemos', 'pyodemos'),\n",
              " ('esse', 'esje'),\n",
              " ('já', 'jrá'),\n",
              " ('nosso', 'nossov'),\n",
              " ('são', 'sãêo'),\n",
              " ('dos', 'dosa'),\n",
              " ('muito', 'muifo'),\n",
              " ('imagem', 'iômagem'),\n",
              " ('sua', 'ósua'),\n",
              " ('também', 'tambéùm'),\n",
              " ('ele', 'eme'),\n",
              " ('fazer', 'èazer'),\n",
              " ('temos', 'temfs'),\n",
              " ('essa', 'eàssa'),\n",
              " ('quando', 'quaôdo'),\n",
              " ('vamos', 'vamvos'),\n",
              " ('sobre', 'hsobre'),\n",
              " ('java', 'sjava'),\n",
              " ('das', 'daõs'),\n",
              " ('agora', 'agorah'),\n",
              " ('está', 'eòtá'),\n",
              " ('cada', 'céda'),\n",
              " ('mesmo', 'zmesmo'),\n",
              " ('nos', 'noâ'),\n",
              " ('forma', 'fobma'),\n",
              " ('seja', 'sejéa'),\n",
              " ('então', 'enêão'),\n",
              " ('criar', 'èriar'),\n",
              " ('código', 'cóeigo'),\n",
              " ('caso', 'casío'),\n",
              " ('exemplo', 'áexemplo'),\n",
              " ('tem', 'tĩem'),\n",
              " ('usuário', 'usuárôio'),\n",
              " ('dados', 'dfados'),\n",
              " ('python', 'pgthon'),\n",
              " ('nossa', 'nossah'),\n",
              " ('além', 'alémè'),\n",
              " ('assim', 'asõim'),\n",
              " ('ter', 'teb'),\n",
              " ('até', 'atĩ'),\n",
              " ('bem', 'âem'),\n",
              " ('design', 'desigen'),\n",
              " ('trabalho', 'trabalàho'),\n",
              " ('foi', 'foo'),\n",
              " ('apenas', 'apenaũ'),\n",
              " ('empresa', 'empresà'),\n",
              " ('valor', 'valíor'),\n",
              " ('será', 'serr'),\n",
              " ('entre', 'entke'),\n",
              " ('método', 'méqodo'),\n",
              " ('precisamos', 'precisamops'),\n",
              " ('ainda', 'ainàa'),\n",
              " ('vai', 'van'),\n",
              " ('conteúdo', 'ûconteúdo'),\n",
              " ('seus', 'çeus'),\n",
              " ('eu', 'eû'),\n",
              " ('todos', 'todtos'),\n",
              " ('tempo', 'temeo'),\n",
              " ('sempre', 'semre'),\n",
              " ('qual', 'quakl'),\n",
              " ('ela', 'elaá'),\n",
              " ('só', 'síó'),\n",
              " ('utilizar', 'utiqizar'),\n",
              " ('projeto', 'prhojeto'),\n",
              " ('site', 'siàe'),\n",
              " ('sem', 'seém'),\n",
              " ('pelo', 'peln'),\n",
              " ('alura', 'aléra'),\n",
              " ('dia', 'tdia'),\n",
              " ('tudo', 'tuúo'),\n",
              " ('podemos', 'kpodemos'),\n",
              " ('esse', 'eẽsse'),\n",
              " ('já', 'jé'),\n",
              " ('nosso', 'nçosso'),\n",
              " ('são', 'sãô'),\n",
              " ('dos', 'odos'),\n",
              " ('muito', 'tuito'),\n",
              " ('imagem', 'imõgem'),\n",
              " ('sua', 'siua'),\n",
              " ('também', 'tamvbém'),\n",
              " ('ele', 'elpe'),\n",
              " ('fazer', 'façzer'),\n",
              " ('temos', 'teos'),\n",
              " ('essa', 'eũsa'),\n",
              " ('quando', 'quaìdo'),\n",
              " ('vamos', 'vjmos'),\n",
              " ('sobre', 'sxobre'),\n",
              " ('java', 'jkva'),\n",
              " ('das', 'dms'),\n",
              " ('agora', 'agtora'),\n",
              " ('está', 'esútá'),\n",
              " ('cada', 'cava'),\n",
              " ('mesmo', 'medmo'),\n",
              " ('nos', 'ános'),\n",
              " ('forma', 'forûa'),\n",
              " ('seja', 'smeja'),\n",
              " ('então', 'enjtão'),\n",
              " ('criar', 'criôar'),\n",
              " ('código', 'cóàigo'),\n",
              " ('caso', 'èaso'),\n",
              " ('exemplo', 'exbemplo'),\n",
              " ('tem', 'túem'),\n",
              " ('usuário', 'usuárin'),\n",
              " ('dados', 'daáos'),\n",
              " ('python', 'pythoçn'),\n",
              " ('nossa', 'nossk'),\n",
              " ('além', 'âlém'),\n",
              " ('assim', 'aóssim'),\n",
              " ('ter', 'tãer'),\n",
              " ('até', 'vté'),\n",
              " ('bem', 'búm'),\n",
              " ('design', 'íesign'),\n",
              " ('trabalho', 'trabèalho'),\n",
              " ('foi', 'kfoi'),\n",
              " ('apenas', 'aapenas'),\n",
              " ('empresa', 'pmpresa'),\n",
              " ('valor', 'valoqr'),\n",
              " ('será', 'sçerá'),\n",
              " ('entre', 'entró'),\n",
              " ('método', 'nétodo'),\n",
              " ('precisamos', 'prefcisamos'),\n",
              " ('ainda', 'sainda'),\n",
              " ('vai', 'uai'),\n",
              " ('conteúdo', 'cĩonteúdo'),\n",
              " ('seus', 'sâus'),\n",
              " ('eu', 'ìeu'),\n",
              " ('todos', 'todás'),\n",
              " ('tempo', 'utempo'),\n",
              " ('sempre', 'sempce'),\n",
              " ('qual', 'fual'),\n",
              " ('ela', 'elal'),\n",
              " ('só', 'skó'),\n",
              " ('utilizar', 'utilĩzar'),\n",
              " ('projeto', 'proójeto'),\n",
              " ('site', 'isite'),\n",
              " ('sem', 'secm'),\n",
              " ('pelo', 'pẽlo'),\n",
              " ('alura', 'aluéa'),\n",
              " ('dia', 'dil'),\n",
              " ('tudo', 'tudy'),\n",
              " ('ela', 'qelay'),\n",
              " ('só', 'sód'),\n",
              " ('utilizar', 'dtilizacr'),\n",
              " ('projeto', 'bprojõto'),\n",
              " ('site', 'ysiteo'),\n",
              " ('sem', 'sõêm'),\n",
              " ('pelo', 'peàli'),\n",
              " ('alura', 'asuraó'),\n",
              " ('dia', 'deiìa'),\n",
              " ('tudo', 'tuĩdoì'),\n",
              " ('ela', 'eúaa'),\n",
              " ('só', 'ró'),\n",
              " ('utilizar', 'utilizẽaçr'),\n",
              " ('projeto', 'prêjetó'),\n",
              " ('site', 'sqiqte'),\n",
              " ('sem', 'sũexm'),\n",
              " ('pelo', 'pçlxo'),\n",
              " ('alura', 'uluraa'),\n",
              " ('dia', 'dĩaz'),\n",
              " ('tudo', 'kzudo'),\n",
              " ('corretor', 'correptor'),\n",
              " ('tática', 'trtica'),\n",
              " ('empoderamento', 'ewpoderamento'),\n",
              " ('linux', 'lifux'),\n",
              " ('cachorro', 'cachoçro'),\n",
              " ('gato', 'îgato'),\n",
              " ('cavalo', 'cakvalo'),\n",
              " ('relógio', 'relógiuo'),\n",
              " ('canela', 'canelac'),\n",
              " ('tênis', 'tênisy'),\n",
              " ('ansiosa', 'anciosa'),\n",
              " ('ansiosa', 'ancciosa'),\n",
              " ('ansiosa', 'ansioa'),\n",
              " ('empoderamento', 'empoderamento'),\n",
              " ('asterisco', 'asterístico'),\n",
              " ('gratuito', 'gratuíto'),\n",
              " ('entretido', 'entertido'),\n",
              " ('ritmo', 'ritimo'),\n",
              " ('idiota', 'indiota'),\n",
              " ('tomara', 'tomare'),\n",
              " ('seja', 'seje'),\n",
              " ('prevalecer', 'provalecer'),\n",
              " ('esteja', 'esteje'),\n",
              " ('mendigo', 'mindigo'),\n",
              " ('cérebro', 'célebro'),\n",
              " ('perturbar', 'pertubar')]"
            ]
          },
          "metadata": {},
          "execution_count": 80
        }
      ]
    },
    {
      "cell_type": "code",
      "source": [
        "def avaliador(testes):\n",
        "  numero_palavras = len(testes)\n",
        "  acertou = 0\n",
        "\n",
        "  for correta, errada in testes:\n",
        "    palavra_corrigida = corretor(errada)\n",
        "\n",
        "    if palavra_corrigida == correta:\n",
        "      acertou += 1\n",
        "\n",
        "  taxa_acerto = round(acertou * 100 / numero_palavras,2)\n",
        "  print(f'A Taxa de acerto: {taxa_acerto}% de {numero_palavras} palavras')\n",
        "\n",
        "\n",
        "avaliador(lista_teste)"
      ],
      "metadata": {
        "id": "ktJPX4vOyNVn",
        "colab": {
          "base_uri": "https://localhost:8080/"
        },
        "outputId": "3d477d3a-14ff-4ebd-f465-5f922132d39a"
      },
      "execution_count": 81,
      "outputs": [
        {
          "output_type": "stream",
          "name": "stdout",
          "text": [
            "A Taxa de acerto: 1.08% de 186 palavras\n"
          ]
        }
      ]
    },
    {
      "cell_type": "code",
      "source": [
        "def deletando_caracteres(fatias):\n",
        "  novas_palavras = []\n",
        "\n",
        "  for E, D in fatias:\n",
        "    novas_palavras.append(E + D[1:])\n",
        "\n",
        "  return novas_palavras"
      ],
      "metadata": {
        "id": "daGUF6-trNmt"
      },
      "execution_count": 82,
      "outputs": []
    },
    {
      "cell_type": "code",
      "source": [
        "def gerador_palavras(palavra):\n",
        "  fatias = []\n",
        "\n",
        "  for i in range(len(palavra) + 1):\n",
        "    fatias.append((palavra[:i], palavra[i:]))\n",
        "\n",
        "  palavras_geradas = insere_letras(fatias)\n",
        "  palavras_geradas += deletando_caracteres(fatias)\n",
        "\n",
        "  return palavras_geradas "
      ],
      "metadata": {
        "id": "ppGxaiy9eHMF"
      },
      "execution_count": 83,
      "outputs": []
    },
    {
      "cell_type": "code",
      "source": [
        "gerador_palavras('lóigica')"
      ],
      "metadata": {
        "colab": {
          "base_uri": "https://localhost:8080/"
        },
        "id": "5KY8xZswgy3P",
        "outputId": "47179d71-faa9-49ef-d17b-38291b4d3467"
      },
      "execution_count": 84,
      "outputs": [
        {
          "output_type": "execute_result",
          "data": {
            "text/plain": [
              "['alóigica',\n",
              " 'blóigica',\n",
              " 'clóigica',\n",
              " 'dlóigica',\n",
              " 'elóigica',\n",
              " 'flóigica',\n",
              " 'glóigica',\n",
              " 'hlóigica',\n",
              " 'ilóigica',\n",
              " 'jlóigica',\n",
              " 'klóigica',\n",
              " 'llóigica',\n",
              " 'mlóigica',\n",
              " 'nlóigica',\n",
              " 'olóigica',\n",
              " 'plóigica',\n",
              " 'qlóigica',\n",
              " 'rlóigica',\n",
              " 'slóigica',\n",
              " 'tlóigica',\n",
              " 'ulóigica',\n",
              " 'vlóigica',\n",
              " 'wlóigica',\n",
              " 'xlóigica',\n",
              " 'ylóigica',\n",
              " 'zlóigica',\n",
              " 'àlóigica',\n",
              " 'álóigica',\n",
              " 'âlóigica',\n",
              " 'ãlóigica',\n",
              " 'èlóigica',\n",
              " 'élóigica',\n",
              " 'êlóigica',\n",
              " 'ìlóigica',\n",
              " 'ílóigica',\n",
              " 'îlóigica',\n",
              " 'òlóigica',\n",
              " 'ólóigica',\n",
              " 'ôlóigica',\n",
              " 'õlóigica',\n",
              " 'ùlóigica',\n",
              " 'úlóigica',\n",
              " 'ûlóigica',\n",
              " 'çlóigica',\n",
              " 'laóigica',\n",
              " 'lbóigica',\n",
              " 'lcóigica',\n",
              " 'ldóigica',\n",
              " 'leóigica',\n",
              " 'lfóigica',\n",
              " 'lgóigica',\n",
              " 'lhóigica',\n",
              " 'lióigica',\n",
              " 'ljóigica',\n",
              " 'lkóigica',\n",
              " 'llóigica',\n",
              " 'lmóigica',\n",
              " 'lnóigica',\n",
              " 'loóigica',\n",
              " 'lpóigica',\n",
              " 'lqóigica',\n",
              " 'lróigica',\n",
              " 'lsóigica',\n",
              " 'ltóigica',\n",
              " 'luóigica',\n",
              " 'lvóigica',\n",
              " 'lwóigica',\n",
              " 'lxóigica',\n",
              " 'lyóigica',\n",
              " 'lzóigica',\n",
              " 'làóigica',\n",
              " 'láóigica',\n",
              " 'lâóigica',\n",
              " 'lãóigica',\n",
              " 'lèóigica',\n",
              " 'léóigica',\n",
              " 'lêóigica',\n",
              " 'lìóigica',\n",
              " 'líóigica',\n",
              " 'lîóigica',\n",
              " 'lòóigica',\n",
              " 'lóóigica',\n",
              " 'lôóigica',\n",
              " 'lõóigica',\n",
              " 'lùóigica',\n",
              " 'lúóigica',\n",
              " 'lûóigica',\n",
              " 'lçóigica',\n",
              " 'lóaigica',\n",
              " 'lóbigica',\n",
              " 'lócigica',\n",
              " 'lódigica',\n",
              " 'lóeigica',\n",
              " 'lófigica',\n",
              " 'lógigica',\n",
              " 'lóhigica',\n",
              " 'lóiigica',\n",
              " 'lójigica',\n",
              " 'lókigica',\n",
              " 'lóligica',\n",
              " 'lómigica',\n",
              " 'lónigica',\n",
              " 'lóoigica',\n",
              " 'lópigica',\n",
              " 'lóqigica',\n",
              " 'lórigica',\n",
              " 'lósigica',\n",
              " 'lótigica',\n",
              " 'lóuigica',\n",
              " 'lóvigica',\n",
              " 'lówigica',\n",
              " 'lóxigica',\n",
              " 'lóyigica',\n",
              " 'lózigica',\n",
              " 'lóàigica',\n",
              " 'lóáigica',\n",
              " 'lóâigica',\n",
              " 'lóãigica',\n",
              " 'lóèigica',\n",
              " 'lóéigica',\n",
              " 'lóêigica',\n",
              " 'lóìigica',\n",
              " 'lóíigica',\n",
              " 'lóîigica',\n",
              " 'lóòigica',\n",
              " 'lóóigica',\n",
              " 'lóôigica',\n",
              " 'lóõigica',\n",
              " 'lóùigica',\n",
              " 'lóúigica',\n",
              " 'lóûigica',\n",
              " 'lóçigica',\n",
              " 'lóiagica',\n",
              " 'lóibgica',\n",
              " 'lóicgica',\n",
              " 'lóidgica',\n",
              " 'lóiegica',\n",
              " 'lóifgica',\n",
              " 'lóiggica',\n",
              " 'lóihgica',\n",
              " 'lóiigica',\n",
              " 'lóijgica',\n",
              " 'lóikgica',\n",
              " 'lóilgica',\n",
              " 'lóimgica',\n",
              " 'lóingica',\n",
              " 'lóiogica',\n",
              " 'lóipgica',\n",
              " 'lóiqgica',\n",
              " 'lóirgica',\n",
              " 'lóisgica',\n",
              " 'lóitgica',\n",
              " 'lóiugica',\n",
              " 'lóivgica',\n",
              " 'lóiwgica',\n",
              " 'lóixgica',\n",
              " 'lóiygica',\n",
              " 'lóizgica',\n",
              " 'lóiàgica',\n",
              " 'lóiágica',\n",
              " 'lóiâgica',\n",
              " 'lóiãgica',\n",
              " 'lóiègica',\n",
              " 'lóiégica',\n",
              " 'lóiêgica',\n",
              " 'lóiìgica',\n",
              " 'lóiígica',\n",
              " 'lóiîgica',\n",
              " 'lóiògica',\n",
              " 'lóiógica',\n",
              " 'lóiôgica',\n",
              " 'lóiõgica',\n",
              " 'lóiùgica',\n",
              " 'lóiúgica',\n",
              " 'lóiûgica',\n",
              " 'lóiçgica',\n",
              " 'lóigaica',\n",
              " 'lóigbica',\n",
              " 'lóigcica',\n",
              " 'lóigdica',\n",
              " 'lóigeica',\n",
              " 'lóigfica',\n",
              " 'lóiggica',\n",
              " 'lóighica',\n",
              " 'lóigiica',\n",
              " 'lóigjica',\n",
              " 'lóigkica',\n",
              " 'lóiglica',\n",
              " 'lóigmica',\n",
              " 'lóignica',\n",
              " 'lóigoica',\n",
              " 'lóigpica',\n",
              " 'lóigqica',\n",
              " 'lóigrica',\n",
              " 'lóigsica',\n",
              " 'lóigtica',\n",
              " 'lóiguica',\n",
              " 'lóigvica',\n",
              " 'lóigwica',\n",
              " 'lóigxica',\n",
              " 'lóigyica',\n",
              " 'lóigzica',\n",
              " 'lóigàica',\n",
              " 'lóigáica',\n",
              " 'lóigâica',\n",
              " 'lóigãica',\n",
              " 'lóigèica',\n",
              " 'lóigéica',\n",
              " 'lóigêica',\n",
              " 'lóigìica',\n",
              " 'lóigíica',\n",
              " 'lóigîica',\n",
              " 'lóigòica',\n",
              " 'lóigóica',\n",
              " 'lóigôica',\n",
              " 'lóigõica',\n",
              " 'lóigùica',\n",
              " 'lóigúica',\n",
              " 'lóigûica',\n",
              " 'lóigçica',\n",
              " 'lóigiaca',\n",
              " 'lóigibca',\n",
              " 'lóigicca',\n",
              " 'lóigidca',\n",
              " 'lóigieca',\n",
              " 'lóigifca',\n",
              " 'lóigigca',\n",
              " 'lóigihca',\n",
              " 'lóigiica',\n",
              " 'lóigijca',\n",
              " 'lóigikca',\n",
              " 'lóigilca',\n",
              " 'lóigimca',\n",
              " 'lóiginca',\n",
              " 'lóigioca',\n",
              " 'lóigipca',\n",
              " 'lóigiqca',\n",
              " 'lóigirca',\n",
              " 'lóigisca',\n",
              " 'lóigitca',\n",
              " 'lóigiuca',\n",
              " 'lóigivca',\n",
              " 'lóigiwca',\n",
              " 'lóigixca',\n",
              " 'lóigiyca',\n",
              " 'lóigizca',\n",
              " 'lóigiàca',\n",
              " 'lóigiáca',\n",
              " 'lóigiâca',\n",
              " 'lóigiãca',\n",
              " 'lóigièca',\n",
              " 'lóigiéca',\n",
              " 'lóigiêca',\n",
              " 'lóigiìca',\n",
              " 'lóigiíca',\n",
              " 'lóigiîca',\n",
              " 'lóigiòca',\n",
              " 'lóigióca',\n",
              " 'lóigiôca',\n",
              " 'lóigiõca',\n",
              " 'lóigiùca',\n",
              " 'lóigiúca',\n",
              " 'lóigiûca',\n",
              " 'lóigiçca',\n",
              " 'lóigicaa',\n",
              " 'lóigicba',\n",
              " 'lóigicca',\n",
              " 'lóigicda',\n",
              " 'lóigicea',\n",
              " 'lóigicfa',\n",
              " 'lóigicga',\n",
              " 'lóigicha',\n",
              " 'lóigicia',\n",
              " 'lóigicja',\n",
              " 'lóigicka',\n",
              " 'lóigicla',\n",
              " 'lóigicma',\n",
              " 'lóigicna',\n",
              " 'lóigicoa',\n",
              " 'lóigicpa',\n",
              " 'lóigicqa',\n",
              " 'lóigicra',\n",
              " 'lóigicsa',\n",
              " 'lóigicta',\n",
              " 'lóigicua',\n",
              " 'lóigicva',\n",
              " 'lóigicwa',\n",
              " 'lóigicxa',\n",
              " 'lóigicya',\n",
              " 'lóigicza',\n",
              " 'lóigicàa',\n",
              " 'lóigicáa',\n",
              " 'lóigicâa',\n",
              " 'lóigicãa',\n",
              " 'lóigicèa',\n",
              " 'lóigicéa',\n",
              " 'lóigicêa',\n",
              " 'lóigicìa',\n",
              " 'lóigicía',\n",
              " 'lóigicîa',\n",
              " 'lóigicòa',\n",
              " 'lóigicóa',\n",
              " 'lóigicôa',\n",
              " 'lóigicõa',\n",
              " 'lóigicùa',\n",
              " 'lóigicúa',\n",
              " 'lóigicûa',\n",
              " 'lóigicça',\n",
              " 'lóigicaa',\n",
              " 'lóigicab',\n",
              " 'lóigicac',\n",
              " 'lóigicad',\n",
              " 'lóigicae',\n",
              " 'lóigicaf',\n",
              " 'lóigicag',\n",
              " 'lóigicah',\n",
              " 'lóigicai',\n",
              " 'lóigicaj',\n",
              " 'lóigicak',\n",
              " 'lóigical',\n",
              " 'lóigicam',\n",
              " 'lóigican',\n",
              " 'lóigicao',\n",
              " 'lóigicap',\n",
              " 'lóigicaq',\n",
              " 'lóigicar',\n",
              " 'lóigicas',\n",
              " 'lóigicat',\n",
              " 'lóigicau',\n",
              " 'lóigicav',\n",
              " 'lóigicaw',\n",
              " 'lóigicax',\n",
              " 'lóigicay',\n",
              " 'lóigicaz',\n",
              " 'lóigicaà',\n",
              " 'lóigicaá',\n",
              " 'lóigicaâ',\n",
              " 'lóigicaã',\n",
              " 'lóigicaè',\n",
              " 'lóigicaé',\n",
              " 'lóigicaê',\n",
              " 'lóigicaì',\n",
              " 'lóigicaí',\n",
              " 'lóigicaî',\n",
              " 'lóigicaò',\n",
              " 'lóigicaó',\n",
              " 'lóigicaô',\n",
              " 'lóigicaõ',\n",
              " 'lóigicaù',\n",
              " 'lóigicaú',\n",
              " 'lóigicaû',\n",
              " 'lóigicaç',\n",
              " 'óigica',\n",
              " 'ligica',\n",
              " 'lógica',\n",
              " 'lóiica',\n",
              " 'lóigca',\n",
              " 'lóigia',\n",
              " 'lóigic',\n",
              " 'lóigica']"
            ]
          },
          "metadata": {},
          "execution_count": 84
        }
      ]
    },
    {
      "cell_type": "code",
      "source": [
        "corretor('lóigica')"
      ],
      "metadata": {
        "colab": {
          "base_uri": "https://localhost:8080/",
          "height": 36
        },
        "id": "anGW18FDg3ph",
        "outputId": "ff84e73e-a942-48c5-a874-262977cecec6"
      },
      "execution_count": 85,
      "outputs": [
        {
          "output_type": "execute_result",
          "data": {
            "text/plain": [
              "'lógica'"
            ],
            "application/vnd.google.colaboratory.intrinsic+json": {
              "type": "string"
            }
          },
          "metadata": {},
          "execution_count": 85
        }
      ]
    },
    {
      "cell_type": "code",
      "source": [
        "avaliador(lista_teste)"
      ],
      "metadata": {
        "colab": {
          "base_uri": "https://localhost:8080/"
        },
        "id": "yYyBIusrhA2_",
        "outputId": "7d182047-681a-4348-a224-473663d02ac8"
      },
      "execution_count": 86,
      "outputs": [
        {
          "output_type": "stream",
          "name": "stdout",
          "text": [
            "A Taxa de acerto: 41.4% de 186 palavras\n"
          ]
        }
      ]
    },
    {
      "cell_type": "code",
      "source": [
        "def insere_letras(fatias):\n",
        "  letras = 'abcdefghijklmnopqrstuvwxyzàáâãèéêìíîòóôõùúûç'\n",
        "  novas_palavras = []\n",
        "\n",
        "  for E, D in fatias:\n",
        "    for letra in letras:\n",
        "      novas_palavras.append(E + letra + D)\n",
        "\n",
        "  return novas_palavras\n",
        "\n",
        "def deletando_caracteres(fatias):\n",
        "  novas_palavras = []\n",
        "\n",
        "  for E, D in fatias:\n",
        "    novas_palavras.append(E + D[1:])\n",
        "\n",
        "  return novas_palavras\n",
        "\n",
        "\n",
        "def troca_letra(fatias):\n",
        "  letras = 'abcdefghijklmnopqrstuvwxyzàáâãèéêìíîòóôõùúûç'\n",
        "  novas_palavras = []\n",
        "\n",
        "  for E, D in fatias:\n",
        "    for letra in letras:\n",
        "      novas_palavras.append(E + letra + D[1:])\n",
        "\n",
        "  return novas_palavras\n",
        "\n",
        "def inverte_letras(fatias):\n",
        "  novas_palavras = []\n",
        "\n",
        "  for E, D in fatias:\n",
        "    if len(D) > 1:\n",
        "      novas_palavras.append(E + D[1] + D[0] + D[2:])\n",
        "\n",
        "  return novas_palavras\n",
        "\n",
        "def gerador_palavras(palavra):\n",
        "  fatias = []\n",
        "\n",
        "  for i in range(len(palavra) + 1):\n",
        "    fatias.append((palavra[:i], palavra[i:]))\n",
        "\n",
        "  palavras_geradas = insere_letras(fatias)\n",
        "  palavras_geradas += deletando_caracteres(fatias)\n",
        "  palavras_geradas += troca_letra(fatias)\n",
        "  palavras_geradas += inverte_letras(fatias)\n",
        "\n",
        "  return palavras_geradas   "
      ],
      "metadata": {
        "id": "fZqBrN5shPj9"
      },
      "execution_count": 87,
      "outputs": []
    },
    {
      "cell_type": "code",
      "source": [
        "palavra_exemplo = 'lgóica'\n",
        "gerador_palavras(palavra_exemplo)\n",
        "corretor(palavra_exemplo)"
      ],
      "metadata": {
        "colab": {
          "base_uri": "https://localhost:8080/",
          "height": 36
        },
        "id": "4xzqeGYytuNN",
        "outputId": "52c16672-7bdb-43f2-98e4-5b21b0d7bf4b"
      },
      "execution_count": 88,
      "outputs": [
        {
          "output_type": "execute_result",
          "data": {
            "text/plain": [
              "'lógica'"
            ],
            "application/vnd.google.colaboratory.intrinsic+json": {
              "type": "string"
            }
          },
          "metadata": {},
          "execution_count": 88
        }
      ]
    },
    {
      "cell_type": "code",
      "source": [
        "avaliador(lista_teste)"
      ],
      "metadata": {
        "colab": {
          "base_uri": "https://localhost:8080/"
        },
        "id": "iVApzVd3t1Xn",
        "outputId": "6e90d73f-ca0f-4191-c76b-34c4416b87ca"
      },
      "execution_count": 89,
      "outputs": [
        {
          "output_type": "stream",
          "name": "stdout",
          "text": [
            "A Taxa de acerto: 76.34% de 186 palavras\n"
          ]
        }
      ]
    },
    {
      "cell_type": "code",
      "source": [
        "def avaliador(testes, vocabulario):\n",
        "  numero_palavras = len(testes)\n",
        "  acertou = 0\n",
        "  desconhecida = 0\n",
        "\n",
        "  for correta, errada in testes:\n",
        "    palavra_corrigida = corretor(errada)\n",
        "\n",
        "    if palavra_corrigida == correta:\n",
        "      acertou += 1\n",
        "    else:\n",
        "      desconhecida += (correta not in vocabulario)\n",
        "\n",
        "  taxa_acerto = round(acertou * 100 / numero_palavras,2)\n",
        "  taxa_desconhecida = round(desconhecida * 100 / numero_palavras,2)\n",
        "\n",
        "  print(f'A Taxa de acerto: {taxa_acerto}% de {numero_palavras} palavras, taxa desconhecidas é {desconhecida}%')\n",
        "\n",
        "vocabulario = set(palavras_normalizadas)\n",
        "avaliador(lista_teste, vocabulario)"
      ],
      "metadata": {
        "colab": {
          "base_uri": "https://localhost:8080/"
        },
        "id": "hohyN6Qezlw0",
        "outputId": "ea92f47a-af9c-4f9f-a611-7623cd6e090e"
      },
      "execution_count": 90,
      "outputs": [
        {
          "output_type": "stream",
          "name": "stdout",
          "text": [
            "A Taxa de acerto: 76.34% de 186 palavras, taxa desconhecidas é 13%\n"
          ]
        }
      ]
    },
    {
      "cell_type": "code",
      "source": [
        "def gerador_turbinado(palavras_geradas):\n",
        "  novas_palavras = []\n",
        "  for palavra in palavras_geradas:\n",
        "    novas_palavras += gerador_palavras(palavra)\n",
        "  return novas_palavras\n",
        "\n",
        "palavra_exemplo = 'lóiigica'\n",
        "palavras_g = gerador_turbinado(gerador_palavras(palavra_exemplo))\n",
        "\n",
        "'lógica' in palavras_g"
      ],
      "metadata": {
        "colab": {
          "base_uri": "https://localhost:8080/"
        },
        "id": "KcGl5dRG6YzE",
        "outputId": "e3664f11-3935-468c-b262-b46d3275f214"
      },
      "execution_count": 91,
      "outputs": [
        {
          "output_type": "execute_result",
          "data": {
            "text/plain": [
              "True"
            ]
          },
          "metadata": {},
          "execution_count": 91
        }
      ]
    },
    {
      "cell_type": "code",
      "source": [
        "def novo_corretor(palavra):\n",
        "  palavras_geradas = gerador_palavras(palavra)\n",
        "  palavras_geradas_turbinado = gerador_turbinado(palavras_geradas)\n",
        "  todas_palavras = set(palavras_geradas + palavras_geradas_turbinado)\n",
        "\n",
        "  candidatos = [palavra]\n",
        "\n",
        "  for palavra in todas_palavras:\n",
        "    if palavra in vocabulario:\n",
        "      candidatos.append(palavra)\n",
        "\n",
        "\n",
        "  palavra_correta = max(candidatos, key = probabilidade)\n",
        "  return palavra_correta\n",
        "\n",
        "novo_corretor(palavra_exemplo)"
      ],
      "metadata": {
        "colab": {
          "base_uri": "https://localhost:8080/",
          "height": 36
        },
        "id": "Y87-d0UxLk0d",
        "outputId": "76f5e102-519f-4143-fc24-a67c27a3a8a2"
      },
      "execution_count": 93,
      "outputs": [
        {
          "output_type": "execute_result",
          "data": {
            "text/plain": [
              "'lógica'"
            ],
            "application/vnd.google.colaboratory.intrinsic+json": {
              "type": "string"
            }
          },
          "metadata": {},
          "execution_count": 93
        }
      ]
    },
    {
      "cell_type": "code",
      "source": [
        "def avaliador(testes, vocabulario):\n",
        "  numero_palavras = len(testes)\n",
        "  acertou = 0\n",
        "  desconhecida = 0\n",
        "\n",
        "  for correta, errada in testes:\n",
        "    palavra_corrigida = novo_corretor(errada)\n",
        "    desconhecida += (correta not in vocabulario)\n",
        "    if palavra_corrigida == correta:\n",
        "      acertou += 1\n",
        "    else:\n",
        "      print(errada + ' - ' + corretor(errada) + ' - ' + palavra_corrigida)\n",
        "\n",
        "  taxa_acerto = round(acertou * 100 / numero_palavras,2)\n",
        "  taxa_desconhecida = round(desconhecida * 100 / numero_palavras,2)\n",
        "\n",
        "  print(f'A Taxa de acerto: {taxa_acerto}% de {numero_palavras} palavras, taxa desconhecidas é {desconhecida}%')\n",
        "\n",
        "vocabulario = set(palavras_normalizadas)\n",
        "avaliador(lista_teste, vocabulario)"
      ],
      "metadata": {
        "colab": {
          "base_uri": "https://localhost:8080/"
        },
        "id": "DG7FeOgTOGza",
        "outputId": "99377147-20c6-499f-9104-64c70e31d6c1"
      },
      "execution_count": 96,
      "outputs": [
        {
          "output_type": "stream",
          "name": "stdout",
          "text": [
            "esje - esse - se\n",
            "sãêo - são - não\n",
            "dosa - dos - do\n",
            "eme - em - de\n",
            "eàssa - essa - esse\n",
            "daõs - das - da\n",
            "céda - cada - da\n",
            "noâ - no - o\n",
            "enêão - então - não\n",
            "tĩem - tem - em\n",
            "nossah - nossa - nosso\n",
            "teb - tem - de\n",
            "atĩ - até - a\n",
            "âem - em - de\n",
            "foo - foi - o\n",
            "serr - ser - se\n",
            "entke - entre - então\n",
            "van - vai - a\n",
            "çeus - seus - seu\n",
            "eû - e - de\n",
            "temeo - tempo - temos\n",
            "semre - sempre - ser\n",
            "elaá - ela - ele\n",
            "síó - só - se\n",
            "siàe - site - se\n",
            "seém - sem - em\n",
            "peln - pelo - ele\n",
            "aléra - alura - agora\n",
            "tdia - dia - da\n",
            "tuúo - tudo - tipo\n",
            "jé - é - de\n",
            "sãô - são - não\n",
            "odos - dos - do\n",
            "siua - sua - seu\n",
            "elpe - ele - esse\n",
            "teos - temos - os\n",
            "eũsa - essa - esse\n",
            "vjmos - vamos - temos\n",
            "dms - dos - de\n",
            "cava - java - para\n",
            "ános - nos - no\n",
            "èaso - caso - as\n",
            "túem - tem - em\n",
            "daáos - dados - dos\n",
            "nossk - nosso - nosso\n",
            "tãer - ter - ser\n",
            "vté - até - é\n",
            "búm - bem - um\n",
            "sçerá - será - ser\n",
            "entró - entre - então\n",
            "uai - vai - a\n",
            "sâus - seus - seu\n",
            "ìeu - seu - de\n",
            "fual - qual - sua\n",
            "elal - ela - ele\n",
            "skó - só - se\n",
            "secm - sem - em\n",
            "aluéa - alura - além\n",
            "dil - dia - de\n",
            "sód - só - se\n",
            "eúaa - aeúaa - essa\n",
            "ró - só - de\n",
            "dĩaz - adĩaz - da\n",
            "correptor - corretor - correto\n",
            "trtica - tática - prática\n",
            "ewpoderamento - aewpoderamento - ewpoderamento\n",
            "îgato - gato - fato\n",
            "cakvalo - acakvalo - carvalho\n",
            "canelac - acanelac - janela\n",
            "tênisy - atênisy - tênisy\n",
            "anciosa - aanciosa - ansioso\n",
            "ancciosa - aancciosa - ancciosa\n",
            "ansioa - aansioa - ensina\n",
            "asterístico - aasterístico - asterístico\n",
            "entertido - aentertido - entendido\n",
            "ritimo - ritmo - ótimo\n",
            "indiota - aindiota - indica\n",
            "tomare - tomar - tomar\n",
            "seje - seja - se\n",
            "provalecer - aprovalecer - prevaleceu\n",
            "esteje - esteja - este\n",
            "mindigo - amindigo - indico\n",
            "pertubar - apertubar - derrubar\n",
            "A Taxa de acerto: 55.38% de 186 palavras, taxa desconhecidas é 13%\n"
          ]
        }
      ]
    },
    {
      "cell_type": "code",
      "source": [
        "def avaliador(testes, vocabulario):\n",
        "  numero_palavras = len(testes)\n",
        "  acertou = 0\n",
        "  desconhecida = 0\n",
        "\n",
        "  for correta, errada in testes:\n",
        "    palavra_corrigida = corretor(errada)\n",
        "    desconhecida += (correta not in vocabulario)\n",
        "    if palavra_corrigida == correta:\n",
        "      acertou += 1\n",
        "\n",
        "  taxa_acerto = round(acertou * 100 / numero_palavras,2)\n",
        "  taxa_desconhecida = round(desconhecida * 100 / numero_palavras,2)\n",
        "\n",
        "  print(f'A Taxa de acerto: {taxa_acerto}% de {numero_palavras} palavras, taxa desconhecidas é {desconhecida}%')\n",
        "\n",
        "vocabulario = set(palavras_normalizadas)\n",
        "avaliador(lista_teste, vocabulario)"
      ],
      "metadata": {
        "colab": {
          "base_uri": "https://localhost:8080/"
        },
        "id": "XrWiOllgQSev",
        "outputId": "c295eca2-a10e-420b-fe34-2bd8de42887c"
      },
      "execution_count": 97,
      "outputs": [
        {
          "output_type": "stream",
          "name": "stdout",
          "text": [
            "A Taxa de acerto: 76.34% de 186 palavras, taxa desconhecidas é 13%\n"
          ]
        }
      ]
    }
  ]
}